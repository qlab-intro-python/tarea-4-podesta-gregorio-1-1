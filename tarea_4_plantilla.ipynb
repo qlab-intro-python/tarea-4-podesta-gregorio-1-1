{
 "cells": [
  {
   "cell_type": "markdown",
   "metadata": {},
   "source": [
    "# **Tarea Nº 4**\n",
    "Scope: APIs"
   ]
  },
  {
   "cell_type": "markdown",
   "metadata": {},
   "source": [
    "Curso:          Fundamentos de Programación en Python para Macroeconomía y Finanzas     \n",
    "Profesor:       Victor Fuentes Campos     "
   ]
  },
  {
   "cell_type": "markdown",
   "metadata": {},
   "source": [
    "- Fecha y hora de entrega: Viernes 12 de enero, 11:59pm\n",
    "- Agregue los nombres de las personas con las que discutió esta tarea: ____ Mateo Podesta y Marco Gregorio ______\n",
    "- Envíe su tarea haciendo el `push` de su código a su repo en GitHub Classroom: "
   ]
  },
  {
   "cell_type": "markdown",
   "metadata": {},
   "source": [
    "The Central Bank Reserve of Perú (BCRP) holds a list of datasets that are among the most comprehensive for macroeconomic purposes. In this exercise, we'll retrieve data from the [BCRP API](https://estadisticas.bcrp.gob.pe/estadisticas/series/ayuda/api) and explore the impact of pandemics"
   ]
  },
  {
   "cell_type": "markdown",
   "metadata": {},
   "source": [
    "## Before starting"
   ]
  },
  {
   "cell_type": "markdown",
   "metadata": {},
   "source": [
    "- You must pull the necessary data using `get` and `requests`\n",
    "- You are required to apply the concepts learned in the previous sessions (`pandas`, `if`, `loop`, `function`)\n",
    "- Hint: here is the BCRP url structure for the APIs call:\n",
    "```html\n",
    "https://estadisticas.bcrp.gob.pe/estadisticas/series/api/[códigos de series]/[formato de salida]/[periodo inicial]/[periodo final]/[idioma]\n",
    "```"
   ]
  },
  {
   "cell_type": "markdown",
   "metadata": {},
   "source": [
    "## The very long run"
   ]
  },
  {
   "cell_type": "markdown",
   "metadata": {},
   "source": [
    "1. Locate the \"Estadísticas de 100 años del BCRP\" section in the BCRP´s series data statistics [here](https://estadisticas.bcrp.gob.pe/estadisticas/series/index) and identify the necessary code for the serie **`PBI (Mill S/ 2007)`**. Later, add manually the annual GDP values for 2022 and 2023 (be careful with the units of data). Then, **calculate** the Peruvian annual GDP growth (%) since 1922 to 2023. Finally, plot it using a very simple graph through `matplotlib` and provide critical insights (no more than 100 words)\n",
    "\n",
    "    Hint1: use `.json()` for exploring the `content`. Your data is inside `[\"periods\"]`\n",
    "    \n",
    "    Hint2: the graph must looks something like this: <img src=\"growth_gdp_long_run.png\" max-width=\"300\">\n",
    "    "
   ]
  },
  {
   "cell_type": "code",
   "execution_count": 522,
   "metadata": {},
   "outputs": [],
   "source": [
    "import requests\n",
    "import pandas as pd\n",
    "import matplotlib.pyplot as plt\n",
    "import seaborn as sns; sns.set()\n",
    "import numpy as np\n",
    "from datetime import date, timedelta"
   ]
  },
  {
   "cell_type": "code",
   "execution_count": 523,
   "metadata": {},
   "outputs": [
    {
     "data": {
      "text/plain": [
       "200"
      ]
     },
     "execution_count": 523,
     "metadata": {},
     "output_type": "execute_result"
    }
   ],
   "source": [
    "# Solution\n",
    "response_bcrp = requests.get(\"https://estadisticas.bcrp.gob.pe/estadisticas/series/api/PD39563DA/json/1922/2022\")\n",
    "response_bcrp.status_code"
   ]
  },
  {
   "cell_type": "code",
   "execution_count": 524,
   "metadata": {},
   "outputs": [
    {
     "data": {
      "text/plain": [
       "dict_keys(['config', 'periods'])"
      ]
     },
     "execution_count": 524,
     "metadata": {},
     "output_type": "execute_result"
    }
   ],
   "source": [
    "response_bcrp.json().keys()"
   ]
  },
  {
   "cell_type": "code",
   "execution_count": 525,
   "metadata": {},
   "outputs": [
    {
     "data": {
      "text/html": [
       "<div>\n",
       "<style scoped>\n",
       "    .dataframe tbody tr th:only-of-type {\n",
       "        vertical-align: middle;\n",
       "    }\n",
       "\n",
       "    .dataframe tbody tr th {\n",
       "        vertical-align: top;\n",
       "    }\n",
       "\n",
       "    .dataframe thead th {\n",
       "        text-align: right;\n",
       "    }\n",
       "</style>\n",
       "<table border=\"1\" class=\"dataframe\">\n",
       "  <thead>\n",
       "    <tr style=\"text-align: right;\">\n",
       "      <th></th>\n",
       "      <th>name</th>\n",
       "      <th>values</th>\n",
       "    </tr>\n",
       "  </thead>\n",
       "  <tbody>\n",
       "    <tr>\n",
       "      <th>0</th>\n",
       "      <td>1922</td>\n",
       "      <td>[14122.0322219965]</td>\n",
       "    </tr>\n",
       "    <tr>\n",
       "      <th>1</th>\n",
       "      <td>1923</td>\n",
       "      <td>[14756.217373401]</td>\n",
       "    </tr>\n",
       "    <tr>\n",
       "      <th>2</th>\n",
       "      <td>1924</td>\n",
       "      <td>[16069.7988061845]</td>\n",
       "    </tr>\n",
       "    <tr>\n",
       "      <th>3</th>\n",
       "      <td>1925</td>\n",
       "      <td>[16575.1994730273]</td>\n",
       "    </tr>\n",
       "    <tr>\n",
       "      <th>4</th>\n",
       "      <td>1926</td>\n",
       "      <td>[18130.1930941889]</td>\n",
       "    </tr>\n",
       "    <tr>\n",
       "      <th>...</th>\n",
       "      <td>...</td>\n",
       "      <td>...</td>\n",
       "    </tr>\n",
       "    <tr>\n",
       "      <th>95</th>\n",
       "      <td>2017</td>\n",
       "      <td>[514215]</td>\n",
       "    </tr>\n",
       "    <tr>\n",
       "      <th>96</th>\n",
       "      <td>2018</td>\n",
       "      <td>[534665]</td>\n",
       "    </tr>\n",
       "    <tr>\n",
       "      <th>97</th>\n",
       "      <td>2019</td>\n",
       "      <td>[546605]</td>\n",
       "    </tr>\n",
       "    <tr>\n",
       "      <th>98</th>\n",
       "      <td>2020</td>\n",
       "      <td>[486402.0862783]</td>\n",
       "    </tr>\n",
       "    <tr>\n",
       "      <th>99</th>\n",
       "      <td>2021</td>\n",
       "      <td>[552312.155429654]</td>\n",
       "    </tr>\n",
       "  </tbody>\n",
       "</table>\n",
       "<p>100 rows × 2 columns</p>\n",
       "</div>"
      ],
      "text/plain": [
       "    name              values\n",
       "0   1922  [14122.0322219965]\n",
       "1   1923   [14756.217373401]\n",
       "2   1924  [16069.7988061845]\n",
       "3   1925  [16575.1994730273]\n",
       "4   1926  [18130.1930941889]\n",
       "..   ...                 ...\n",
       "95  2017            [514215]\n",
       "96  2018            [534665]\n",
       "97  2019            [546605]\n",
       "98  2020    [486402.0862783]\n",
       "99  2021  [552312.155429654]\n",
       "\n",
       "[100 rows x 2 columns]"
      ]
     },
     "execution_count": 525,
     "metadata": {},
     "output_type": "execute_result"
    }
   ],
   "source": [
    "bcrp_data = pd.DataFrame(response_bcrp.json()[\"periods\"])\n",
    "bcrp_data #values are coded as a lenght 1 array"
   ]
  },
  {
   "cell_type": "code",
   "execution_count": 526,
   "metadata": {},
   "outputs": [],
   "source": [
    "bcrp_data[\"values\"] = bcrp_data[\"values\"].apply(lambda x: x[0])\n",
    "bcrp_data[\"values\"] = pd.to_numeric(bcrp_data[\"values\"])"
   ]
  },
  {
   "cell_type": "code",
   "execution_count": 527,
   "metadata": {},
   "outputs": [
    {
     "data": {
      "text/html": [
       "<div>\n",
       "<style scoped>\n",
       "    .dataframe tbody tr th:only-of-type {\n",
       "        vertical-align: middle;\n",
       "    }\n",
       "\n",
       "    .dataframe tbody tr th {\n",
       "        vertical-align: top;\n",
       "    }\n",
       "\n",
       "    .dataframe thead th {\n",
       "        text-align: right;\n",
       "    }\n",
       "</style>\n",
       "<table border=\"1\" class=\"dataframe\">\n",
       "  <thead>\n",
       "    <tr style=\"text-align: right;\">\n",
       "      <th></th>\n",
       "      <th>name</th>\n",
       "      <th>values</th>\n",
       "    </tr>\n",
       "  </thead>\n",
       "  <tbody>\n",
       "    <tr>\n",
       "      <th>0</th>\n",
       "      <td>1922</td>\n",
       "      <td>14122.032222</td>\n",
       "    </tr>\n",
       "    <tr>\n",
       "      <th>1</th>\n",
       "      <td>1923</td>\n",
       "      <td>14756.217373</td>\n",
       "    </tr>\n",
       "    <tr>\n",
       "      <th>2</th>\n",
       "      <td>1924</td>\n",
       "      <td>16069.798806</td>\n",
       "    </tr>\n",
       "    <tr>\n",
       "      <th>3</th>\n",
       "      <td>1925</td>\n",
       "      <td>16575.199473</td>\n",
       "    </tr>\n",
       "    <tr>\n",
       "      <th>4</th>\n",
       "      <td>1926</td>\n",
       "      <td>18130.193094</td>\n",
       "    </tr>\n",
       "    <tr>\n",
       "      <th>...</th>\n",
       "      <td>...</td>\n",
       "      <td>...</td>\n",
       "    </tr>\n",
       "    <tr>\n",
       "      <th>96</th>\n",
       "      <td>2018</td>\n",
       "      <td>534665.000000</td>\n",
       "    </tr>\n",
       "    <tr>\n",
       "      <th>97</th>\n",
       "      <td>2019</td>\n",
       "      <td>546605.000000</td>\n",
       "    </tr>\n",
       "    <tr>\n",
       "      <th>98</th>\n",
       "      <td>2020</td>\n",
       "      <td>486402.086278</td>\n",
       "    </tr>\n",
       "    <tr>\n",
       "      <th>99</th>\n",
       "      <td>2021</td>\n",
       "      <td>552312.155430</td>\n",
       "    </tr>\n",
       "    <tr>\n",
       "      <th>100</th>\n",
       "      <td>2022</td>\n",
       "      <td>567390.000000</td>\n",
       "    </tr>\n",
       "  </tbody>\n",
       "</table>\n",
       "<p>101 rows × 2 columns</p>\n",
       "</div>"
      ],
      "text/plain": [
       "     name         values\n",
       "0    1922   14122.032222\n",
       "1    1923   14756.217373\n",
       "2    1924   16069.798806\n",
       "3    1925   16575.199473\n",
       "4    1926   18130.193094\n",
       "..    ...            ...\n",
       "96   2018  534665.000000\n",
       "97   2019  546605.000000\n",
       "98   2020  486402.086278\n",
       "99   2021  552312.155430\n",
       "100  2022  567390.000000\n",
       "\n",
       "[101 rows x 2 columns]"
      ]
     },
     "execution_count": 527,
     "metadata": {},
     "output_type": "execute_result"
    }
   ],
   "source": [
    "#Add the 2022 values\n",
    "bcrp_data.loc[len(bcrp_data)] = [2022, 567390]\n",
    "#there is no values for Peru's gdp on 2023\n",
    "bcrp_data"
   ]
  },
  {
   "cell_type": "code",
   "execution_count": 528,
   "metadata": {},
   "outputs": [
    {
     "data": {
      "text/html": [
       "<div>\n",
       "<style scoped>\n",
       "    .dataframe tbody tr th:only-of-type {\n",
       "        vertical-align: middle;\n",
       "    }\n",
       "\n",
       "    .dataframe tbody tr th {\n",
       "        vertical-align: top;\n",
       "    }\n",
       "\n",
       "    .dataframe thead th {\n",
       "        text-align: right;\n",
       "    }\n",
       "</style>\n",
       "<table border=\"1\" class=\"dataframe\">\n",
       "  <thead>\n",
       "    <tr style=\"text-align: right;\">\n",
       "      <th></th>\n",
       "      <th>name</th>\n",
       "      <th>values</th>\n",
       "      <th>growth</th>\n",
       "    </tr>\n",
       "  </thead>\n",
       "  <tbody>\n",
       "    <tr>\n",
       "      <th>0</th>\n",
       "      <td>1922</td>\n",
       "      <td>14122.032222</td>\n",
       "      <td>NaN</td>\n",
       "    </tr>\n",
       "    <tr>\n",
       "      <th>1</th>\n",
       "      <td>1923</td>\n",
       "      <td>14756.217373</td>\n",
       "      <td>4.49</td>\n",
       "    </tr>\n",
       "    <tr>\n",
       "      <th>2</th>\n",
       "      <td>1924</td>\n",
       "      <td>16069.798806</td>\n",
       "      <td>8.90</td>\n",
       "    </tr>\n",
       "    <tr>\n",
       "      <th>3</th>\n",
       "      <td>1925</td>\n",
       "      <td>16575.199473</td>\n",
       "      <td>3.15</td>\n",
       "    </tr>\n",
       "    <tr>\n",
       "      <th>4</th>\n",
       "      <td>1926</td>\n",
       "      <td>18130.193094</td>\n",
       "      <td>9.38</td>\n",
       "    </tr>\n",
       "    <tr>\n",
       "      <th>...</th>\n",
       "      <td>...</td>\n",
       "      <td>...</td>\n",
       "      <td>...</td>\n",
       "    </tr>\n",
       "    <tr>\n",
       "      <th>96</th>\n",
       "      <td>2018</td>\n",
       "      <td>534665.000000</td>\n",
       "      <td>3.98</td>\n",
       "    </tr>\n",
       "    <tr>\n",
       "      <th>97</th>\n",
       "      <td>2019</td>\n",
       "      <td>546605.000000</td>\n",
       "      <td>2.23</td>\n",
       "    </tr>\n",
       "    <tr>\n",
       "      <th>98</th>\n",
       "      <td>2020</td>\n",
       "      <td>486402.086278</td>\n",
       "      <td>-11.01</td>\n",
       "    </tr>\n",
       "    <tr>\n",
       "      <th>99</th>\n",
       "      <td>2021</td>\n",
       "      <td>552312.155430</td>\n",
       "      <td>13.55</td>\n",
       "    </tr>\n",
       "    <tr>\n",
       "      <th>100</th>\n",
       "      <td>2022</td>\n",
       "      <td>567390.000000</td>\n",
       "      <td>2.73</td>\n",
       "    </tr>\n",
       "  </tbody>\n",
       "</table>\n",
       "<p>101 rows × 3 columns</p>\n",
       "</div>"
      ],
      "text/plain": [
       "     name         values  growth\n",
       "0    1922   14122.032222     NaN\n",
       "1    1923   14756.217373    4.49\n",
       "2    1924   16069.798806    8.90\n",
       "3    1925   16575.199473    3.15\n",
       "4    1926   18130.193094    9.38\n",
       "..    ...            ...     ...\n",
       "96   2018  534665.000000    3.98\n",
       "97   2019  546605.000000    2.23\n",
       "98   2020  486402.086278  -11.01\n",
       "99   2021  552312.155430   13.55\n",
       "100  2022  567390.000000    2.73\n",
       "\n",
       "[101 rows x 3 columns]"
      ]
     },
     "execution_count": 528,
     "metadata": {},
     "output_type": "execute_result"
    }
   ],
   "source": [
    "bcrp_data[\"growth\"] = bcrp_data[\"values\"].pct_change().mul(100).round(2) \n",
    "bcrp_data #the data is ready to be graphed"
   ]
  },
  {
   "cell_type": "code",
   "execution_count": 529,
   "metadata": {},
   "outputs": [
    {
     "data": {
      "image/png": "[encoded data removed]",
      "text/plain": [
       "<Figure size 1360x640 with 1 Axes>"
      ]
     },
     "metadata": {},
     "output_type": "display_data"
    }
   ],
   "source": [
    "plt.figure(figsize=(17,8))\n",
    "plt.plot(bcrp_data[\"name\"].astype(np.float16), bcrp_data[\"growth\"].astype(np.float16),color='red')\n",
    "sns.despine()\n",
    "plt.grid(True)\n",
    "plt.title(\"PBI (Var %) (1922-2022)\",size='x-large',color='black')\n",
    "plt.xticks(np.arange(1922, 2022, 7.0))\n",
    "plt.legend([\"PBI (Var %)\"], bbox_to_anchor =(0.55, -0.05))\n",
    "plt.autoscale(enable=True, axis='x', tight=True)\n",
    "plt.show()"
   ]
  },
  {
   "cell_type": "markdown",
   "metadata": {},
   "source": [
    "## The hitman"
   ]
  },
  {
   "cell_type": "markdown",
   "metadata": {},
   "source": [
    "2. Retrieve the up-to-date data for the monthly GDP in index (2007=100) from this [link](https://estadisticas.bcrp.gob.pe/estadisticas/series/mensuales/producto-bruto-interno-y-demanda-interna-variaciones-indice-2007). Then, calculate the the 5-year average monthly growth previous to the pandemics (ending in Feb-2020) for the 12-month rolling mean of the index, and project the alternative scenario of the Peruvian economy without the COVID-19. Then plot them out and provide insight from the gap between the real data and the pre-pandemic trend.\n",
    "\n",
    "    Hint1: You may use the regression type of your election, but the OLS is recommended. \n",
    "    \n",
    "    Hint2: Your plot should look somethig like this. You aren´t required to add flags/annotations/texts inside the graph <img src=\"growth_gdp_pandemics.png\" max-width=\"300\">\n",
    "\n",
    "    Hint3: For more details about calculation, review this post from [The Economist](https://www.economist.com/graphic-detail/2021/10/28/americas-post-covid-economic-recovery-suffers-a-setback)\n",
    "    \n"
   ]
  },
  {
   "cell_type": "code",
   "execution_count": 539,
   "metadata": {},
   "outputs": [
    {
     "data": {
      "text/plain": [
       "200"
      ]
     },
     "execution_count": 539,
     "metadata": {},
     "output_type": "execute_result"
    }
   ],
   "source": [
    "# Solution\n",
    "response_bcrp2 = requests.get(\"https://estadisticas.bcrp.gob.pe/estadisticas/series/api/PN01770AM/json/2014-1/2022-10/ing\")\n",
    "response_bcrp2.status_code"
   ]
  },
  {
   "cell_type": "code",
   "execution_count": 531,
   "metadata": {},
   "outputs": [
    {
     "data": {
      "text/plain": [
       "dict_keys(['config', 'periods'])"
      ]
     },
     "execution_count": 531,
     "metadata": {},
     "output_type": "execute_result"
    }
   ],
   "source": [
    "response_bcrp2.json().keys()"
   ]
  },
  {
   "cell_type": "code",
   "execution_count": 532,
   "metadata": {},
   "outputs": [
    {
     "data": {
      "text/html": [
       "<div>\n",
       "<style scoped>\n",
       "    .dataframe tbody tr th:only-of-type {\n",
       "        vertical-align: middle;\n",
       "    }\n",
       "\n",
       "    .dataframe tbody tr th {\n",
       "        vertical-align: top;\n",
       "    }\n",
       "\n",
       "    .dataframe thead th {\n",
       "        text-align: right;\n",
       "    }\n",
       "</style>\n",
       "<table border=\"1\" class=\"dataframe\">\n",
       "  <thead>\n",
       "    <tr style=\"text-align: right;\">\n",
       "      <th></th>\n",
       "      <th>name</th>\n",
       "      <th>values</th>\n",
       "    </tr>\n",
       "  </thead>\n",
       "  <tbody>\n",
       "    <tr>\n",
       "      <th>0</th>\n",
       "      <td>Jul.2014</td>\n",
       "      <td>[147.922643157663]</td>\n",
       "    </tr>\n",
       "    <tr>\n",
       "      <th>1</th>\n",
       "      <td>Aug.2014</td>\n",
       "      <td>[145.595315365279]</td>\n",
       "    </tr>\n",
       "    <tr>\n",
       "      <th>2</th>\n",
       "      <td>Sep.2014</td>\n",
       "      <td>[147.301851243689]</td>\n",
       "    </tr>\n",
       "    <tr>\n",
       "      <th>3</th>\n",
       "      <td>Oct.2014</td>\n",
       "      <td>[150.790042907709]</td>\n",
       "    </tr>\n",
       "    <tr>\n",
       "      <th>4</th>\n",
       "      <td>Nov.2014</td>\n",
       "      <td>[147.601135020437]</td>\n",
       "    </tr>\n",
       "    <tr>\n",
       "      <th>...</th>\n",
       "      <td>...</td>\n",
       "      <td>...</td>\n",
       "    </tr>\n",
       "    <tr>\n",
       "      <th>95</th>\n",
       "      <td>Jun.2022</td>\n",
       "      <td>[178.292131143719]</td>\n",
       "    </tr>\n",
       "    <tr>\n",
       "      <th>96</th>\n",
       "      <td>Jul.2022</td>\n",
       "      <td>[177.607762415235]</td>\n",
       "    </tr>\n",
       "    <tr>\n",
       "      <th>97</th>\n",
       "      <td>Aug.2022</td>\n",
       "      <td>[178.999270679373]</td>\n",
       "    </tr>\n",
       "    <tr>\n",
       "      <th>98</th>\n",
       "      <td>Sep.2022</td>\n",
       "      <td>[182.333593279657]</td>\n",
       "    </tr>\n",
       "    <tr>\n",
       "      <th>99</th>\n",
       "      <td>Oct.2022</td>\n",
       "      <td>[182.903406082431]</td>\n",
       "    </tr>\n",
       "  </tbody>\n",
       "</table>\n",
       "<p>100 rows × 2 columns</p>\n",
       "</div>"
      ],
      "text/plain": [
       "        name              values\n",
       "0   Jul.2014  [147.922643157663]\n",
       "1   Aug.2014  [145.595315365279]\n",
       "2   Sep.2014  [147.301851243689]\n",
       "3   Oct.2014  [150.790042907709]\n",
       "4   Nov.2014  [147.601135020437]\n",
       "..       ...                 ...\n",
       "95  Jun.2022  [178.292131143719]\n",
       "96  Jul.2022  [177.607762415235]\n",
       "97  Aug.2022  [178.999270679373]\n",
       "98  Sep.2022  [182.333593279657]\n",
       "99  Oct.2022  [182.903406082431]\n",
       "\n",
       "[100 rows x 2 columns]"
      ]
     },
     "execution_count": 532,
     "metadata": {},
     "output_type": "execute_result"
    }
   ],
   "source": [
    "bcrp_data2 = pd.DataFrame(response_bcrp2.json()[\"periods\"])\n",
    "bcrp_data2 #values are coded as a lenght 1 array"
   ]
  },
  {
   "cell_type": "code",
   "execution_count": 533,
   "metadata": {},
   "outputs": [
    {
     "data": {
      "text/html": [
       "<div>\n",
       "<style scoped>\n",
       "    .dataframe tbody tr th:only-of-type {\n",
       "        vertical-align: middle;\n",
       "    }\n",
       "\n",
       "    .dataframe tbody tr th {\n",
       "        vertical-align: top;\n",
       "    }\n",
       "\n",
       "    .dataframe thead th {\n",
       "        text-align: right;\n",
       "    }\n",
       "</style>\n",
       "<table border=\"1\" class=\"dataframe\">\n",
       "  <thead>\n",
       "    <tr style=\"text-align: right;\">\n",
       "      <th></th>\n",
       "      <th>name</th>\n",
       "      <th>values</th>\n",
       "    </tr>\n",
       "  </thead>\n",
       "  <tbody>\n",
       "    <tr>\n",
       "      <th>0</th>\n",
       "      <td>Jul.2014</td>\n",
       "      <td>147.922643</td>\n",
       "    </tr>\n",
       "    <tr>\n",
       "      <th>1</th>\n",
       "      <td>Aug.2014</td>\n",
       "      <td>145.595315</td>\n",
       "    </tr>\n",
       "    <tr>\n",
       "      <th>2</th>\n",
       "      <td>Sep.2014</td>\n",
       "      <td>147.301851</td>\n",
       "    </tr>\n",
       "    <tr>\n",
       "      <th>3</th>\n",
       "      <td>Oct.2014</td>\n",
       "      <td>150.790043</td>\n",
       "    </tr>\n",
       "    <tr>\n",
       "      <th>4</th>\n",
       "      <td>Nov.2014</td>\n",
       "      <td>147.601135</td>\n",
       "    </tr>\n",
       "    <tr>\n",
       "      <th>...</th>\n",
       "      <td>...</td>\n",
       "      <td>...</td>\n",
       "    </tr>\n",
       "    <tr>\n",
       "      <th>95</th>\n",
       "      <td>Jun.2022</td>\n",
       "      <td>178.292131</td>\n",
       "    </tr>\n",
       "    <tr>\n",
       "      <th>96</th>\n",
       "      <td>Jul.2022</td>\n",
       "      <td>177.607762</td>\n",
       "    </tr>\n",
       "    <tr>\n",
       "      <th>97</th>\n",
       "      <td>Aug.2022</td>\n",
       "      <td>178.999271</td>\n",
       "    </tr>\n",
       "    <tr>\n",
       "      <th>98</th>\n",
       "      <td>Sep.2022</td>\n",
       "      <td>182.333593</td>\n",
       "    </tr>\n",
       "    <tr>\n",
       "      <th>99</th>\n",
       "      <td>Oct.2022</td>\n",
       "      <td>182.903406</td>\n",
       "    </tr>\n",
       "  </tbody>\n",
       "</table>\n",
       "<p>100 rows × 2 columns</p>\n",
       "</div>"
      ],
      "text/plain": [
       "        name      values\n",
       "0   Jul.2014  147.922643\n",
       "1   Aug.2014  145.595315\n",
       "2   Sep.2014  147.301851\n",
       "3   Oct.2014  150.790043\n",
       "4   Nov.2014  147.601135\n",
       "..       ...         ...\n",
       "95  Jun.2022  178.292131\n",
       "96  Jul.2022  177.607762\n",
       "97  Aug.2022  178.999271\n",
       "98  Sep.2022  182.333593\n",
       "99  Oct.2022  182.903406\n",
       "\n",
       "[100 rows x 2 columns]"
      ]
     },
     "execution_count": 533,
     "metadata": {},
     "output_type": "execute_result"
    }
   ],
   "source": [
    "bcrp_data2[\"values\"] = bcrp_data2[\"values\"].apply(lambda x: x[0])\n",
    "bcrp_data2[\"values\"] = pd.to_numeric(bcrp_data2[\"values\"])\n",
    "bcrp_data2"
   ]
  },
  {
   "cell_type": "code",
   "execution_count": 534,
   "metadata": {},
   "outputs": [
    {
     "data": {
      "text/html": [
       "<div>\n",
       "<style scoped>\n",
       "    .dataframe tbody tr th:only-of-type {\n",
       "        vertical-align: middle;\n",
       "    }\n",
       "\n",
       "    .dataframe tbody tr th {\n",
       "        vertical-align: top;\n",
       "    }\n",
       "\n",
       "    .dataframe thead th {\n",
       "        text-align: right;\n",
       "    }\n",
       "</style>\n",
       "<table border=\"1\" class=\"dataframe\">\n",
       "  <thead>\n",
       "    <tr style=\"text-align: right;\">\n",
       "      <th></th>\n",
       "      <th>name</th>\n",
       "      <th>values</th>\n",
       "      <th>rolling_mean</th>\n",
       "    </tr>\n",
       "  </thead>\n",
       "  <tbody>\n",
       "    <tr>\n",
       "      <th>11</th>\n",
       "      <td>Jun.2015</td>\n",
       "      <td>150.578547</td>\n",
       "      <td>147.997462</td>\n",
       "    </tr>\n",
       "    <tr>\n",
       "      <th>12</th>\n",
       "      <td>Jul.2015</td>\n",
       "      <td>153.252909</td>\n",
       "      <td>148.441651</td>\n",
       "    </tr>\n",
       "    <tr>\n",
       "      <th>13</th>\n",
       "      <td>Aug.2015</td>\n",
       "      <td>149.481867</td>\n",
       "      <td>148.765530</td>\n",
       "    </tr>\n",
       "    <tr>\n",
       "      <th>14</th>\n",
       "      <td>Sep.2015</td>\n",
       "      <td>151.999229</td>\n",
       "      <td>149.156979</td>\n",
       "    </tr>\n",
       "    <tr>\n",
       "      <th>15</th>\n",
       "      <td>Oct.2015</td>\n",
       "      <td>155.730121</td>\n",
       "      <td>149.568652</td>\n",
       "    </tr>\n",
       "    <tr>\n",
       "      <th>...</th>\n",
       "      <td>...</td>\n",
       "      <td>...</td>\n",
       "      <td>...</td>\n",
       "    </tr>\n",
       "    <tr>\n",
       "      <th>95</th>\n",
       "      <td>Jun.2022</td>\n",
       "      <td>178.292131</td>\n",
       "      <td>175.780411</td>\n",
       "    </tr>\n",
       "    <tr>\n",
       "      <th>96</th>\n",
       "      <td>Jul.2022</td>\n",
       "      <td>177.607762</td>\n",
       "      <td>176.042479</td>\n",
       "    </tr>\n",
       "    <tr>\n",
       "      <th>97</th>\n",
       "      <td>Aug.2022</td>\n",
       "      <td>178.999271</td>\n",
       "      <td>176.331272</td>\n",
       "    </tr>\n",
       "    <tr>\n",
       "      <th>98</th>\n",
       "      <td>Sep.2022</td>\n",
       "      <td>182.333593</td>\n",
       "      <td>176.649618</td>\n",
       "    </tr>\n",
       "    <tr>\n",
       "      <th>99</th>\n",
       "      <td>Oct.2022</td>\n",
       "      <td>182.903406</td>\n",
       "      <td>176.997181</td>\n",
       "    </tr>\n",
       "  </tbody>\n",
       "</table>\n",
       "<p>89 rows × 3 columns</p>\n",
       "</div>"
      ],
      "text/plain": [
       "        name      values  rolling_mean\n",
       "11  Jun.2015  150.578547    147.997462\n",
       "12  Jul.2015  153.252909    148.441651\n",
       "13  Aug.2015  149.481867    148.765530\n",
       "14  Sep.2015  151.999229    149.156979\n",
       "15  Oct.2015  155.730121    149.568652\n",
       "..       ...         ...           ...\n",
       "95  Jun.2022  178.292131    175.780411\n",
       "96  Jul.2022  177.607762    176.042479\n",
       "97  Aug.2022  178.999271    176.331272\n",
       "98  Sep.2022  182.333593    176.649618\n",
       "99  Oct.2022  182.903406    176.997181\n",
       "\n",
       "[89 rows x 3 columns]"
      ]
     },
     "execution_count": 534,
     "metadata": {},
     "output_type": "execute_result"
    }
   ],
   "source": [
    "bcrp_data2[\"rolling_mean\"] = bcrp_data2[\"values\"].rolling(window=12).mean()\n",
    "bcrp_data2 = bcrp_data2.dropna()\n",
    "bcrp_data2"
   ]
  },
  {
   "cell_type": "code",
   "execution_count": 541,
   "metadata": {},
   "outputs": [
    {
     "name": "stderr",
     "output_type": "stream",
     "text": [
      "C:\\Users\\USUARIO\\AppData\\Local\\Temp\\ipykernel_2168\\1775803024.py:2: SettingWithCopyWarning: \n",
      "A value is trying to be set on a copy of a slice from a DataFrame.\n",
      "Try using .loc[row_indexer,col_indexer] = value instead\n",
      "\n",
      "See the caveats in the documentation: https://pandas.pydata.org/pandas-docs/stable/user_guide/indexing.html#returning-a-view-versus-a-copy\n",
      "  bcrp_data2['name'] = pd.to_datetime(bcrp_data2['name'], format='%b.%Y', errors='coerce')\n"
     ]
    },
    {
     "data": {
      "image/png": "[encoded data removed]",
      "text/plain": [
       "<Figure size 560x400 with 1 Axes>"
      ]
     },
     "metadata": {},
     "output_type": "display_data"
    }
   ],
   "source": [
    "#Code adapted from stack overflow\n",
    "\n",
    "bcrp_data2['name'] = pd.to_datetime(bcrp_data2['name'], format='%b.%Y', errors='coerce')\n",
    "\n",
    "\n",
    "filtered_data = bcrp_data2[bcrp_data2['name'] <= 'Feb.2020']\n",
    "\n",
    "# Prepare matrices for linear regression\n",
    "X = np.column_stack((np.ones(len(filtered_data)), np.arange(1, len(filtered_data)+1)))\n",
    "y = filtered_data['rolling_mean']\n",
    "\n",
    "# Calculate coefficients (beta)\n",
    "beta = np.linalg.inv(X.T @ X) @ X.T @ y\n",
    "\n",
    "X2 = np.column_stack((np.ones(len(bcrp_data2)), np.arange(1, len(bcrp_data2)+1)))\n",
    "predicted_values = X2 @ beta\n",
    "predicted_values = predicted_values[50:]\n",
    "\n",
    "# Plotting\n",
    "plt.figure(figsize=(7,5))\n",
    "\n",
    "plt.plot(bcrp_data2['name'], bcrp_data2['rolling_mean'], label='Observed Values', linewidth=3.5)\n",
    "plt.plot(bcrp_data2['name'][50:], predicted_values, label='Trend (Linear Prediction)', linestyle='--', color='skyblue', linewidth=3.5)\n",
    "\n",
    "plt.title('La economía peruana se estanca', size=15, fontweight='bold', loc=\"left\")\n",
    "plt.suptitle('Perú: Evolución del PBI real, índice (2007=100) del promedio movil de 12 meses', size=10, x='0.48', y='0.895')\n",
    "plt.grid(axis='y')\n",
    "sns.set_style(\"ticks\")\n",
    "sns.despine(top=True, right=True, left=True, bottom=True)\n",
    "\n",
    "plt.axvline(pd.to_datetime('2020-01-31'), color='r', lw=1)\n",
    "\n",
    "plt.show()"
   ]
  },
  {
   "cell_type": "markdown",
   "metadata": {},
   "source": [
    "## The winners"
   ]
  },
  {
   "cell_type": "markdown",
   "metadata": {},
   "source": [
    "- Based on the [Nasdaq Stock Screener](https://www.nasdaq.com/market-activity/stocks/screener), identify the three largest companies in the three larger sectors defined by market cap\n",
    "- Elaborate a list/dictionary/series (what ever you think is more suitable) containing all tickers (or symbols) and sectors from these companies.\n",
    "- So far, you can download data from Nasdaq, web scrape it or copy it manually. It doesn´t matter\n",
    "- Then, use `yfinance` library to retrieve the market data for all the 9 firms\n",
    "- Construct a table with the most common *institucional holders* by sector. Is there any interesting pattern? Hint: loop the `institutional_holders` from `yfinance`\n",
    "- Calculate the distribution of the daily percentage returns for the 3 larger companies (defined by market cap) along the last 5 years. Plot your results (feel free to find the most appealing way to represent them) and provide critical insights"
   ]
  },
  {
   "cell_type": "markdown",
   "metadata": {},
   "source": [
    "$$\n",
    "  percentage\\_return_{t} = \\frac{price_t-price_{t-1}}{price_t}*100+dividends (\\%)\n",
    "$$"
   ]
  },
  {
   "cell_type": "markdown",
   "metadata": {},
   "source": [
    "- Hint1: you can find the `dividens` through the `yfinance`'s \n",
    "`Ticker()`\n",
    "- Hint2: some firms may not be paying dividends"
   ]
  },
  {
   "cell_type": "code",
   "execution_count": 536,
   "metadata": {},
   "outputs": [],
   "source": [
    "# Solution"
   ]
  }
 ],
 "metadata": {
  "hide_input": false,
  "kernelspec": {
   "display_name": "Python 3 (ipykernel)",
   "language": "python",
   "name": "python3"
  },
  "language_info": {
   "codemirror_mode": {
    "name": "ipython",
    "version": 3
   },
   "file_extension": ".py",
   "mimetype": "text/x-python",
   "name": "python",
   "nbconvert_exporter": "python",
   "pygments_lexer": "ipython3",
   "version": "3.11.5"
  },
  "toc": {
   "base_numbering": 1,
   "nav_menu": {},
   "number_sections": true,
   "sideBar": true,
   "skip_h1_title": false,
   "title_cell": "Table of Contents",
   "title_sidebar": "Contents",
   "toc_cell": false,
   "toc_position": {},
   "toc_section_display": true,
   "toc_window_display": false
  }
 },
 "nbformat": 4,
 "nbformat_minor": 4
}
